{
  "nbformat": 4,
  "nbformat_minor": 0,
  "metadata": {
    "colab": {
      "provenance": [],
      "authorship_tag": "ABX9TyPAIHTAJR7+NDHlqUYGGXe3",
      "include_colab_link": true
    },
    "kernelspec": {
      "name": "python3",
      "display_name": "Python 3"
    },
    "language_info": {
      "name": "python"
    }
  },
  "cells": [
    {
      "cell_type": "markdown",
      "metadata": {
        "id": "view-in-github",
        "colab_type": "text"
      },
      "source": [
        "<a href=\"https://colab.research.google.com/github/Shubham99singh99/python_shubham/blob/main/20_march_OOPS.ipynb\" target=\"_parent\"><img src=\"https://colab.research.google.com/assets/colab-badge.svg\" alt=\"Open In Colab\"/></a>"
      ]
    },
    {
      "cell_type": "code",
      "execution_count": null,
      "metadata": {
        "id": "JuIJ-tUCZtek"
      },
      "outputs": [],
      "source": [
        "class instructor:\n",
        "  def __init__(self,name,address):\n",
        "    self.name"
      ]
    },
    {
      "cell_type": "code",
      "source": [],
      "metadata": {
        "id": "ADGlw34omtdF"
      },
      "execution_count": null,
      "outputs": []
    },
    {
      "cell_type": "code",
      "source": [
        "instructor2 = instructor(\"abc\",\"upes\")\n",
        "print(intructor2.name)"
      ],
      "metadata": {
        "id": "uWFSjZ4taXGp"
      },
      "execution_count": null,
      "outputs": []
    },
    {
      "cell_type": "code",
      "source": [
        "class instructorinfo:\n",
        "  follower = 0\n",
        "  def __init__ (self,name,address)\n",
        "  self.name=name\n",
        "  self.address = address\n",
        "\n",
        "instructor11\n",
        "\n"
      ],
      "metadata": {
        "id": "dtYL0rY8amJD"
      },
      "execution_count": null,
      "outputs": []
    },
    {
      "cell_type": "markdown",
      "source": [],
      "metadata": {
        "id": "iFhdRy1Vb0qg"
      }
    },
    {
      "cell_type": "code",
      "source": [
        "class InstructorInfo:\n",
        "    followers = 0  # Class attribute to count followers\n",
        "\n",
        "    def __init__(self, name, address):\n",
        "        self.name = name\n",
        "        self.address = address\n",
        "\n",
        "    def display(self):\n",
        "        print(\"hi\")\n",
        "\n",
        "Instructor11 = InstructorInfo(\"shubham\", \"UPES\")\n",
        "print(Instructor11.name)\n",
        "Instructor11.display()\n",
        "print(Instructor11.display())\n"
      ],
      "metadata": {
        "colab": {
          "base_uri": "https://localhost:8080/"
        },
        "id": "fiJLyyk1cTGb",
        "outputId": "ef42158c-8358-42db-9eda-99ea03ceeff2"
      },
      "execution_count": null,
      "outputs": [
        {
          "output_type": "stream",
          "name": "stdout",
          "text": [
            "shubham\n",
            "hi\n",
            "hi\n",
            "None\n"
          ]
        }
      ]
    },
    {
      "cell_type": "code",
      "source": [
        "class InstructorInfo:\n",
        "  followers = 0\n",
        "  def __init__(self,name,address):\n",
        "    self.name=name\n",
        "    self.address = address\n",
        "\n",
        "  def display(self,subject):\n",
        "    print(f\"hi i am {self.name} and i am {subject}\")\n",
        "  def update_follower(self,F_name):\n",
        "    self.follower +=1\n",
        "\n",
        "Instructor11 = InstructorInfo(\"shubham\",\"upes\")\n",
        "print(Instructor11.name)\n",
        "Instructor11.display(\"python\")"
      ],
      "metadata": {
        "colab": {
          "base_uri": "https://localhost:8080/"
        },
        "id": "pRuStpyvc8wR",
        "outputId": "99a3bf22-1f93-4e27-f407-56b4b95e0d36"
      },
      "execution_count": null,
      "outputs": [
        {
          "output_type": "stream",
          "name": "stdout",
          "text": [
            "shubham\n",
            "hi i am shubham and i am python\n"
          ]
        }
      ]
    },
    {
      "cell_type": "code",
      "source": [
        "class Circle:\n",
        "  def __init__(self,radius):\n",
        "    self.radius = radius\n",
        "\n",
        "  def circumference(self):\n",
        "    return 2 * 3.14 * self.radius\n",
        "\n",
        "circle1 = Circle(4)\n",
        "print(circle1.circumference())"
      ],
      "metadata": {
        "colab": {
          "base_uri": "https://localhost:8080/"
        },
        "id": "HYIDMVbPewn2",
        "outputId": "2c662100-a2e3-4ee4-8a87-e6f1214d628c"
      },
      "execution_count": null,
      "outputs": [
        {
          "output_type": "stream",
          "name": "stdout",
          "text": [
            "25.12\n"
          ]
        }
      ]
    },
    {
      "cell_type": "code",
      "source": [
        "!git clone https://github.com/Shubhamsinghmewada/python_123.git"
      ],
      "metadata": {
        "colab": {
          "base_uri": "https://localhost:8080/"
        },
        "id": "0ePhhTE5e-5T",
        "outputId": "1dca0be8-6d93-48ab-eee0-48634281cc5c"
      },
      "execution_count": null,
      "outputs": [
        {
          "output_type": "stream",
          "name": "stdout",
          "text": [
            "Cloning into 'python_123'...\n",
            "warning: You appear to have cloned an empty repository.\n"
          ]
        }
      ]
    }
  ]
}